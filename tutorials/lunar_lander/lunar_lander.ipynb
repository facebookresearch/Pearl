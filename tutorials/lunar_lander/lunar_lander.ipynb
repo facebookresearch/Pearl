{
  "cells": [
    {
      "cell_type": "markdown",
      "metadata": {
        "id": "6cYM7L_EbaD2"
      },
      "source": [
        "# Using DQN and Double DQN in Pearl with different neural network instantiations.\n",
        "\n",
        "Here is a [better rendering](https://nbviewer.org/github/facebookresearch/Pearl/blob/main/tutorials/sequential_decision_making/DQN_and_DoubleDQN_example.ipynb) of this notebook on [nbviewer](https://nbviewer.org/).\n",
        "\n",
        "- The purpose of this tutorial is twofold. First, it illustrates how users can use implementations of value based methods, for example, DQN and Double DQN, in Pearl. We use a simple Gym environment for illustration.\n",
        "\n",
        "- Second, it illustrates how users can instantiate a neural network (outside of a Pearl Agent) and pass it to different policy learners in Pearl. For both examples (DQN and Double DQN), we use an instantiation of `QValueNetworks` outside of the Pearl Agent. The default way right now is to instantiate a Q-value network inside the agent's policy learner.\n",
        "\n",
        "- Users can also instantiate custom networks and use these with different policy learners in Pearl, but are expected to follow the general design of the value networks/critic networks/actor networks base class. For example, for value based methods such as DQN and Double DQN, users should follow the design of the `QValueNetwork` base class."
      ]
    },
    {
      "cell_type": "code",
      "execution_count": 1,
      "metadata": {
        "id": "Kztd2SaMY7BK"
      },
      "outputs": [],
      "source": [
        "%load_ext autoreload\n",
        "%autoreload 2"
      ]
    },
    {
      "cell_type": "markdown",
      "metadata": {
        "id": "hpBKgJ3tZSKg"
      },
      "source": [
        "# Pearl Installation\n",
        "\n",
        "If you haven't installed Pearl, please make sure you install Pearl with the following cell. Otherwise, you can skip the cell below.\n",
        "\n"
      ]
    },
    {
      "cell_type": "code",
      "execution_count": 2,
      "metadata": {
        "colab": {
          "base_uri": "https://localhost:8080/"
        },
        "id": "SFOG6DepZLS1",
        "outputId": "c522edc4-0efc-44b0-e8d0-9ea489758757"
      },
      "outputs": [
        {
          "output_type": "stream",
          "name": "stdout",
          "text": [
            "\u001b[33mWARNING: Skipping Pearl as it is not installed.\u001b[0m\u001b[33m\n",
            "\u001b[0mCloning into 'Pearl'...\n",
            "remote: Enumerating objects: 6139, done.\u001b[K\n",
            "remote: Counting objects: 100% (2348/2348), done.\u001b[K\n",
            "remote: Compressing objects: 100% (724/724), done.\u001b[K\n",
            "remote: Total 6139 (delta 1796), reused 2070 (delta 1606), pack-reused 3791 (from 1)\u001b[K\n",
            "Receiving objects: 100% (6139/6139), 54.48 MiB | 9.96 MiB/s, done.\n",
            "Resolving deltas: 100% (4123/4123), done.\n"
          ]
        }
      ],
      "source": [
        "# Pearl installation from github. This install also includes PyTorch, Gym and Matplotlib\n",
        "\n",
        "%pip uninstall Pearl -y\n",
        "%rm -rf Pearl\n",
        "!git clone https://github.com/facebookresearch/Pearl.git"
      ]
    },
    {
      "cell_type": "code",
      "source": [
        "%cd Pearl\n",
        "%pip install .\n",
        "%cd .."
      ],
      "metadata": {
        "colab": {
          "base_uri": "https://localhost:8080/"
        },
        "id": "g0-qCYjsV71N",
        "outputId": "a1243c8d-5dbe-4ba4-adef-fc09fef72691"
      },
      "execution_count": 3,
      "outputs": [
        {
          "output_type": "stream",
          "name": "stdout",
          "text": [
            "/content/Pearl\n",
            "Processing /content/Pearl\n",
            "  Installing build dependencies ... \u001b[?25l\u001b[?25hdone\n",
            "  Getting requirements to build wheel ... \u001b[?25l\u001b[?25hdone\n",
            "  Preparing metadata (pyproject.toml) ... \u001b[?25l\u001b[?25hdone\n",
            "Requirement already satisfied: gym in /usr/local/lib/python3.10/dist-packages (from Pearl==0.1.0) (0.25.2)\n",
            "Collecting gymnasium[accept-rom-license,atari,mujoco] (from Pearl==0.1.0)\n",
            "  Downloading gymnasium-0.29.1-py3-none-any.whl.metadata (10 kB)\n",
            "Requirement already satisfied: numpy in /usr/local/lib/python3.10/dist-packages (from Pearl==0.1.0) (1.26.4)\n",
            "Requirement already satisfied: matplotlib in /usr/local/lib/python3.10/dist-packages (from Pearl==0.1.0) (3.7.1)\n",
            "Requirement already satisfied: pandas in /usr/local/lib/python3.10/dist-packages (from Pearl==0.1.0) (2.1.4)\n",
            "Collecting parameterized (from Pearl==0.1.0)\n",
            "  Downloading parameterized-0.9.0-py2.py3-none-any.whl.metadata (18 kB)\n",
            "Requirement already satisfied: requests in /usr/local/lib/python3.10/dist-packages (from Pearl==0.1.0) (2.32.3)\n",
            "Collecting mujoco (from Pearl==0.1.0)\n",
            "  Downloading mujoco-3.2.2-cp310-cp310-manylinux_2_17_x86_64.manylinux2014_x86_64.whl.metadata (44 kB)\n",
            "\u001b[2K     \u001b[90m━━━━━━━━━━━━━━━━━━━━━━━━━━━━━━━━━━━━━━━━\u001b[0m \u001b[32m44.3/44.3 kB\u001b[0m \u001b[31m3.9 MB/s\u001b[0m eta \u001b[36m0:00:00\u001b[0m\n",
            "\u001b[?25hRequirement already satisfied: torch in /usr/local/lib/python3.10/dist-packages (from Pearl==0.1.0) (2.3.1+cu121)\n",
            "Requirement already satisfied: torchvision in /usr/local/lib/python3.10/dist-packages (from Pearl==0.1.0) (0.18.1+cu121)\n",
            "Requirement already satisfied: torchaudio in /usr/local/lib/python3.10/dist-packages (from Pearl==0.1.0) (2.3.1+cu121)\n",
            "Requirement already satisfied: cloudpickle>=1.2.0 in /usr/local/lib/python3.10/dist-packages (from gym->Pearl==0.1.0) (2.2.1)\n",
            "Requirement already satisfied: gym-notices>=0.0.4 in /usr/local/lib/python3.10/dist-packages (from gym->Pearl==0.1.0) (0.0.8)\n",
            "Requirement already satisfied: typing-extensions>=4.3.0 in /usr/local/lib/python3.10/dist-packages (from gymnasium[accept-rom-license,atari,mujoco]->Pearl==0.1.0) (4.12.2)\n",
            "Collecting farama-notifications>=0.0.1 (from gymnasium[accept-rom-license,atari,mujoco]->Pearl==0.1.0)\n",
            "  Downloading Farama_Notifications-0.0.4-py3-none-any.whl.metadata (558 bytes)\n",
            "Collecting autorom~=0.4.2 (from autorom[accept-rom-license]~=0.4.2; extra == \"accept-rom-license\"->gymnasium[accept-rom-license,atari,mujoco]->Pearl==0.1.0)\n",
            "  Downloading AutoROM-0.4.2-py3-none-any.whl.metadata (2.8 kB)\n",
            "Collecting shimmy<1.0,>=0.1.0 (from shimmy[atari]<1.0,>=0.1.0; extra == \"atari\"->gymnasium[accept-rom-license,atari,mujoco]->Pearl==0.1.0)\n",
            "  Downloading Shimmy-0.2.1-py3-none-any.whl.metadata (2.3 kB)\n",
            "Requirement already satisfied: imageio>=2.14.1 in /usr/local/lib/python3.10/dist-packages (from gymnasium[accept-rom-license,atari,mujoco]->Pearl==0.1.0) (2.34.2)\n",
            "Requirement already satisfied: absl-py in /usr/local/lib/python3.10/dist-packages (from mujoco->Pearl==0.1.0) (1.4.0)\n",
            "Requirement already satisfied: etils[epath] in /usr/local/lib/python3.10/dist-packages (from mujoco->Pearl==0.1.0) (1.7.0)\n",
            "Collecting glfw (from mujoco->Pearl==0.1.0)\n",
            "  Downloading glfw-2.7.0-py2.py27.py3.py30.py31.py32.py33.py34.py35.py36.py37.py38-none-manylinux2014_x86_64.whl.metadata (5.4 kB)\n",
            "Requirement already satisfied: pyopengl in /usr/local/lib/python3.10/dist-packages (from mujoco->Pearl==0.1.0) (3.1.7)\n",
            "Requirement already satisfied: contourpy>=1.0.1 in /usr/local/lib/python3.10/dist-packages (from matplotlib->Pearl==0.1.0) (1.2.1)\n",
            "Requirement already satisfied: cycler>=0.10 in /usr/local/lib/python3.10/dist-packages (from matplotlib->Pearl==0.1.0) (0.12.1)\n",
            "Requirement already satisfied: fonttools>=4.22.0 in /usr/local/lib/python3.10/dist-packages (from matplotlib->Pearl==0.1.0) (4.53.1)\n",
            "Requirement already satisfied: kiwisolver>=1.0.1 in /usr/local/lib/python3.10/dist-packages (from matplotlib->Pearl==0.1.0) (1.4.5)\n",
            "Requirement already satisfied: packaging>=20.0 in /usr/local/lib/python3.10/dist-packages (from matplotlib->Pearl==0.1.0) (24.1)\n",
            "Requirement already satisfied: pillow>=6.2.0 in /usr/local/lib/python3.10/dist-packages (from matplotlib->Pearl==0.1.0) (9.4.0)\n",
            "Requirement already satisfied: pyparsing>=2.3.1 in /usr/local/lib/python3.10/dist-packages (from matplotlib->Pearl==0.1.0) (3.1.2)\n",
            "Requirement already satisfied: python-dateutil>=2.7 in /usr/local/lib/python3.10/dist-packages (from matplotlib->Pearl==0.1.0) (2.8.2)\n",
            "Requirement already satisfied: pytz>=2020.1 in /usr/local/lib/python3.10/dist-packages (from pandas->Pearl==0.1.0) (2024.1)\n",
            "Requirement already satisfied: tzdata>=2022.1 in /usr/local/lib/python3.10/dist-packages (from pandas->Pearl==0.1.0) (2024.1)\n",
            "Requirement already satisfied: charset-normalizer<4,>=2 in /usr/local/lib/python3.10/dist-packages (from requests->Pearl==0.1.0) (3.3.2)\n",
            "Requirement already satisfied: idna<4,>=2.5 in /usr/local/lib/python3.10/dist-packages (from requests->Pearl==0.1.0) (3.7)\n",
            "Requirement already satisfied: urllib3<3,>=1.21.1 in /usr/local/lib/python3.10/dist-packages (from requests->Pearl==0.1.0) (2.0.7)\n",
            "Requirement already satisfied: certifi>=2017.4.17 in /usr/local/lib/python3.10/dist-packages (from requests->Pearl==0.1.0) (2024.7.4)\n",
            "Requirement already satisfied: filelock in /usr/local/lib/python3.10/dist-packages (from torch->Pearl==0.1.0) (3.15.4)\n",
            "Requirement already satisfied: sympy in /usr/local/lib/python3.10/dist-packages (from torch->Pearl==0.1.0) (1.13.2)\n",
            "Requirement already satisfied: networkx in /usr/local/lib/python3.10/dist-packages (from torch->Pearl==0.1.0) (3.3)\n",
            "Requirement already satisfied: jinja2 in /usr/local/lib/python3.10/dist-packages (from torch->Pearl==0.1.0) (3.1.4)\n",
            "Requirement already satisfied: fsspec in /usr/local/lib/python3.10/dist-packages (from torch->Pearl==0.1.0) (2024.6.1)\n",
            "Collecting nvidia-cuda-nvrtc-cu12==12.1.105 (from torch->Pearl==0.1.0)\n",
            "  Using cached nvidia_cuda_nvrtc_cu12-12.1.105-py3-none-manylinux1_x86_64.whl.metadata (1.5 kB)\n",
            "Collecting nvidia-cuda-runtime-cu12==12.1.105 (from torch->Pearl==0.1.0)\n",
            "  Using cached nvidia_cuda_runtime_cu12-12.1.105-py3-none-manylinux1_x86_64.whl.metadata (1.5 kB)\n",
            "Collecting nvidia-cuda-cupti-cu12==12.1.105 (from torch->Pearl==0.1.0)\n",
            "  Using cached nvidia_cuda_cupti_cu12-12.1.105-py3-none-manylinux1_x86_64.whl.metadata (1.6 kB)\n",
            "Collecting nvidia-cudnn-cu12==8.9.2.26 (from torch->Pearl==0.1.0)\n",
            "  Using cached nvidia_cudnn_cu12-8.9.2.26-py3-none-manylinux1_x86_64.whl.metadata (1.6 kB)\n",
            "Collecting nvidia-cublas-cu12==12.1.3.1 (from torch->Pearl==0.1.0)\n",
            "  Using cached nvidia_cublas_cu12-12.1.3.1-py3-none-manylinux1_x86_64.whl.metadata (1.5 kB)\n",
            "Collecting nvidia-cufft-cu12==11.0.2.54 (from torch->Pearl==0.1.0)\n",
            "  Using cached nvidia_cufft_cu12-11.0.2.54-py3-none-manylinux1_x86_64.whl.metadata (1.5 kB)\n",
            "Collecting nvidia-curand-cu12==10.3.2.106 (from torch->Pearl==0.1.0)\n",
            "  Using cached nvidia_curand_cu12-10.3.2.106-py3-none-manylinux1_x86_64.whl.metadata (1.5 kB)\n",
            "Collecting nvidia-cusolver-cu12==11.4.5.107 (from torch->Pearl==0.1.0)\n",
            "  Using cached nvidia_cusolver_cu12-11.4.5.107-py3-none-manylinux1_x86_64.whl.metadata (1.6 kB)\n",
            "Collecting nvidia-cusparse-cu12==12.1.0.106 (from torch->Pearl==0.1.0)\n",
            "  Using cached nvidia_cusparse_cu12-12.1.0.106-py3-none-manylinux1_x86_64.whl.metadata (1.6 kB)\n",
            "Collecting nvidia-nccl-cu12==2.20.5 (from torch->Pearl==0.1.0)\n",
            "  Using cached nvidia_nccl_cu12-2.20.5-py3-none-manylinux2014_x86_64.whl.metadata (1.8 kB)\n",
            "Collecting nvidia-nvtx-cu12==12.1.105 (from torch->Pearl==0.1.0)\n",
            "  Using cached nvidia_nvtx_cu12-12.1.105-py3-none-manylinux1_x86_64.whl.metadata (1.7 kB)\n",
            "Requirement already satisfied: triton==2.3.1 in /usr/local/lib/python3.10/dist-packages (from torch->Pearl==0.1.0) (2.3.1)\n",
            "Collecting nvidia-nvjitlink-cu12 (from nvidia-cusolver-cu12==11.4.5.107->torch->Pearl==0.1.0)\n",
            "  Using cached nvidia_nvjitlink_cu12-12.6.20-py3-none-manylinux2014_x86_64.whl.metadata (1.5 kB)\n",
            "Requirement already satisfied: click in /usr/local/lib/python3.10/dist-packages (from autorom~=0.4.2->autorom[accept-rom-license]~=0.4.2; extra == \"accept-rom-license\"->gymnasium[accept-rom-license,atari,mujoco]->Pearl==0.1.0) (8.1.7)\n",
            "Requirement already satisfied: tqdm in /usr/local/lib/python3.10/dist-packages (from autorom~=0.4.2->autorom[accept-rom-license]~=0.4.2; extra == \"accept-rom-license\"->gymnasium[accept-rom-license,atari,mujoco]->Pearl==0.1.0) (4.66.5)\n",
            "Collecting AutoROM.accept-rom-license (from autorom[accept-rom-license]~=0.4.2; extra == \"accept-rom-license\"->gymnasium[accept-rom-license,atari,mujoco]->Pearl==0.1.0)\n",
            "  Downloading AutoROM.accept-rom-license-0.6.1.tar.gz (434 kB)\n",
            "\u001b[2K     \u001b[90m━━━━━━━━━━━━━━━━━━━━━━━━━━━━━━━━━━━━━━━━\u001b[0m \u001b[32m434.7/434.7 kB\u001b[0m \u001b[31m36.6 MB/s\u001b[0m eta \u001b[36m0:00:00\u001b[0m\n",
            "\u001b[?25h  Installing build dependencies ... \u001b[?25l\u001b[?25hdone\n",
            "  Getting requirements to build wheel ... \u001b[?25l\u001b[?25hdone\n",
            "  Preparing metadata (pyproject.toml) ... \u001b[?25l\u001b[?25hdone\n",
            "Requirement already satisfied: six>=1.5 in /usr/local/lib/python3.10/dist-packages (from python-dateutil>=2.7->matplotlib->Pearl==0.1.0) (1.16.0)\n",
            "Collecting ale-py~=0.8.1 (from shimmy[atari]<1.0,>=0.1.0; extra == \"atari\"->gymnasium[accept-rom-license,atari,mujoco]->Pearl==0.1.0)\n",
            "  Downloading ale_py-0.8.1-cp310-cp310-manylinux_2_17_x86_64.manylinux2014_x86_64.whl.metadata (8.1 kB)\n",
            "Requirement already satisfied: importlib_resources in /usr/local/lib/python3.10/dist-packages (from etils[epath]->mujoco->Pearl==0.1.0) (6.4.3)\n",
            "Requirement already satisfied: zipp in /usr/local/lib/python3.10/dist-packages (from etils[epath]->mujoco->Pearl==0.1.0) (3.20.0)\n",
            "Requirement already satisfied: MarkupSafe>=2.0 in /usr/local/lib/python3.10/dist-packages (from jinja2->torch->Pearl==0.1.0) (2.1.5)\n",
            "Requirement already satisfied: mpmath<1.4,>=1.1.0 in /usr/local/lib/python3.10/dist-packages (from sympy->torch->Pearl==0.1.0) (1.3.0)\n",
            "Downloading mujoco-3.2.2-cp310-cp310-manylinux_2_17_x86_64.manylinux2014_x86_64.whl (6.0 MB)\n",
            "\u001b[2K   \u001b[90m━━━━━━━━━━━━━━━━━━━━━━━━━━━━━━━━━━━━━━━━\u001b[0m \u001b[32m6.0/6.0 MB\u001b[0m \u001b[31m52.8 MB/s\u001b[0m eta \u001b[36m0:00:00\u001b[0m\n",
            "\u001b[?25hDownloading parameterized-0.9.0-py2.py3-none-any.whl (20 kB)\n",
            "Using cached nvidia_cublas_cu12-12.1.3.1-py3-none-manylinux1_x86_64.whl (410.6 MB)\n",
            "Using cached nvidia_cuda_cupti_cu12-12.1.105-py3-none-manylinux1_x86_64.whl (14.1 MB)\n",
            "Using cached nvidia_cuda_nvrtc_cu12-12.1.105-py3-none-manylinux1_x86_64.whl (23.7 MB)\n",
            "Using cached nvidia_cuda_runtime_cu12-12.1.105-py3-none-manylinux1_x86_64.whl (823 kB)\n",
            "Using cached nvidia_cudnn_cu12-8.9.2.26-py3-none-manylinux1_x86_64.whl (731.7 MB)\n",
            "Using cached nvidia_cufft_cu12-11.0.2.54-py3-none-manylinux1_x86_64.whl (121.6 MB)\n",
            "Using cached nvidia_curand_cu12-10.3.2.106-py3-none-manylinux1_x86_64.whl (56.5 MB)\n",
            "Using cached nvidia_cusolver_cu12-11.4.5.107-py3-none-manylinux1_x86_64.whl (124.2 MB)\n",
            "Using cached nvidia_cusparse_cu12-12.1.0.106-py3-none-manylinux1_x86_64.whl (196.0 MB)\n",
            "Using cached nvidia_nccl_cu12-2.20.5-py3-none-manylinux2014_x86_64.whl (176.2 MB)\n",
            "Using cached nvidia_nvtx_cu12-12.1.105-py3-none-manylinux1_x86_64.whl (99 kB)\n",
            "Downloading AutoROM-0.4.2-py3-none-any.whl (16 kB)\n",
            "Using cached Farama_Notifications-0.0.4-py3-none-any.whl (2.5 kB)\n",
            "Downloading Shimmy-0.2.1-py3-none-any.whl (25 kB)\n",
            "Downloading gymnasium-0.29.1-py3-none-any.whl (953 kB)\n",
            "\u001b[2K   \u001b[90m━━━━━━━━━━━━━━━━━━━━━━━━━━━━━━━━━━━━━━━━\u001b[0m \u001b[32m953.9/953.9 kB\u001b[0m \u001b[31m49.7 MB/s\u001b[0m eta \u001b[36m0:00:00\u001b[0m\n",
            "\u001b[?25hDownloading glfw-2.7.0-py2.py27.py3.py30.py31.py32.py33.py34.py35.py36.py37.py38-none-manylinux2014_x86_64.whl (211 kB)\n",
            "\u001b[2K   \u001b[90m━━━━━━━━━━━━━━━━━━━━━━━━━━━━━━━━━━━━━━━━\u001b[0m \u001b[32m211.8/211.8 kB\u001b[0m \u001b[31m21.0 MB/s\u001b[0m eta \u001b[36m0:00:00\u001b[0m\n",
            "\u001b[?25hDownloading ale_py-0.8.1-cp310-cp310-manylinux_2_17_x86_64.manylinux2014_x86_64.whl (1.7 MB)\n",
            "\u001b[2K   \u001b[90m━━━━━━━━━━━━━━━━━━━━━━━━━━━━━━━━━━━━━━━━\u001b[0m \u001b[32m1.7/1.7 MB\u001b[0m \u001b[31m56.3 MB/s\u001b[0m eta \u001b[36m0:00:00\u001b[0m\n",
            "\u001b[?25hUsing cached nvidia_nvjitlink_cu12-12.6.20-py3-none-manylinux2014_x86_64.whl (19.7 MB)\n",
            "Building wheels for collected packages: Pearl, AutoROM.accept-rom-license\n",
            "  Building wheel for Pearl (pyproject.toml) ... \u001b[?25l\u001b[?25hdone\n",
            "  Created wheel for Pearl: filename=Pearl-0.1.0-py3-none-any.whl size=217695 sha256=6e0420543d7ac0117754847667585e96785da93571acb90a35cb3ebb74d190b7\n",
            "  Stored in directory: /tmp/pip-ephem-wheel-cache-1nd51sp3/wheels/83/80/1d/d9211ba70ee392341daf21a07252739e0cb2af9f95439a28cd\n",
            "  Building wheel for AutoROM.accept-rom-license (pyproject.toml) ... \u001b[?25l\u001b[?25hdone\n",
            "  Created wheel for AutoROM.accept-rom-license: filename=AutoROM.accept_rom_license-0.6.1-py3-none-any.whl size=446661 sha256=02ee31633554d4a7e0533e7633f35f893b0242bde72b4aaba61d7f534f3cd905\n",
            "  Stored in directory: /root/.cache/pip/wheels/6b/1b/ef/a43ff1a2f1736d5711faa1ba4c1f61be1131b8899e6a057811\n",
            "Successfully built Pearl AutoROM.accept-rom-license\n",
            "Installing collected packages: glfw, farama-notifications, parameterized, nvidia-nvtx-cu12, nvidia-nvjitlink-cu12, nvidia-nccl-cu12, nvidia-curand-cu12, nvidia-cufft-cu12, nvidia-cuda-runtime-cu12, nvidia-cuda-nvrtc-cu12, nvidia-cuda-cupti-cu12, nvidia-cublas-cu12, gymnasium, ale-py, shimmy, nvidia-cusparse-cu12, nvidia-cudnn-cu12, AutoROM.accept-rom-license, autorom, nvidia-cusolver-cu12, mujoco, Pearl\n",
            "Successfully installed AutoROM.accept-rom-license-0.6.1 Pearl-0.1.0 ale-py-0.8.1 autorom-0.4.2 farama-notifications-0.0.4 glfw-2.7.0 gymnasium-0.29.1 mujoco-3.2.2 nvidia-cublas-cu12-12.1.3.1 nvidia-cuda-cupti-cu12-12.1.105 nvidia-cuda-nvrtc-cu12-12.1.105 nvidia-cuda-runtime-cu12-12.1.105 nvidia-cudnn-cu12-8.9.2.26 nvidia-cufft-cu12-11.0.2.54 nvidia-curand-cu12-10.3.2.106 nvidia-cusolver-cu12-11.4.5.107 nvidia-cusparse-cu12-12.1.0.106 nvidia-nccl-cu12-2.20.5 nvidia-nvjitlink-cu12-12.6.20 nvidia-nvtx-cu12-12.1.105 parameterized-0.9.0 shimmy-0.2.1\n",
            "/content\n"
          ]
        }
      ]
    },
    {
      "cell_type": "code",
      "execution_count": 4,
      "metadata": {
        "colab": {
          "base_uri": "https://localhost:8080/"
        },
        "id": "HXNni3Xjnbus",
        "outputId": "6f60e961-5a5b-44ba-cd1d-4c789574ec45"
      },
      "outputs": [
        {
          "output_type": "stream",
          "name": "stdout",
          "text": [
            "Collecting swig\n",
            "  Downloading swig-4.2.1-py2.py3-none-manylinux_2_5_x86_64.manylinux1_x86_64.whl.metadata (3.6 kB)\n",
            "Downloading swig-4.2.1-py2.py3-none-manylinux_2_5_x86_64.manylinux1_x86_64.whl (1.9 MB)\n",
            "\u001b[?25l   \u001b[90m━━━━━━━━━━━━━━━━━━━━━━━━━━━━━━━━━━━━━━━━\u001b[0m \u001b[32m0.0/1.9 MB\u001b[0m \u001b[31m?\u001b[0m eta \u001b[36m-:--:--\u001b[0m\r\u001b[2K   \u001b[90m━━━━━━━━━━━━━━━━━━━━━━━━━━━━━━━━━━━━━━━━\u001b[0m \u001b[32m1.9/1.9 MB\u001b[0m \u001b[31m59.5 MB/s\u001b[0m eta \u001b[36m0:00:00\u001b[0m\n",
            "\u001b[?25hInstalling collected packages: swig\n",
            "Successfully installed swig-4.2.1\n"
          ]
        }
      ],
      "source": [
        "!pip install swig"
      ]
    },
    {
      "cell_type": "code",
      "execution_count": 5,
      "metadata": {
        "colab": {
          "base_uri": "https://localhost:8080/"
        },
        "id": "sVi9TyChnUqP",
        "outputId": "4e60f038-4eb9-4aac-bad4-7fa829511a03"
      },
      "outputs": [
        {
          "output_type": "stream",
          "name": "stdout",
          "text": [
            "Requirement already satisfied: gymnasium[box2d] in /usr/local/lib/python3.10/dist-packages (0.29.1)\n",
            "Requirement already satisfied: numpy>=1.21.0 in /usr/local/lib/python3.10/dist-packages (from gymnasium[box2d]) (1.26.4)\n",
            "Requirement already satisfied: cloudpickle>=1.2.0 in /usr/local/lib/python3.10/dist-packages (from gymnasium[box2d]) (2.2.1)\n",
            "Requirement already satisfied: typing-extensions>=4.3.0 in /usr/local/lib/python3.10/dist-packages (from gymnasium[box2d]) (4.12.2)\n",
            "Requirement already satisfied: farama-notifications>=0.0.1 in /usr/local/lib/python3.10/dist-packages (from gymnasium[box2d]) (0.0.4)\n",
            "Collecting box2d-py==2.3.5 (from gymnasium[box2d])\n",
            "  Downloading box2d-py-2.3.5.tar.gz (374 kB)\n",
            "\u001b[2K     \u001b[90m━━━━━━━━━━━━━━━━━━━━━━━━━━━━━━━━━━━━━━━━\u001b[0m \u001b[32m374.4/374.4 kB\u001b[0m \u001b[31m27.4 MB/s\u001b[0m eta \u001b[36m0:00:00\u001b[0m\n",
            "\u001b[?25h  Preparing metadata (setup.py) ... \u001b[?25l\u001b[?25hdone\n",
            "Requirement already satisfied: pygame>=2.1.3 in /usr/local/lib/python3.10/dist-packages (from gymnasium[box2d]) (2.6.0)\n",
            "Requirement already satisfied: swig==4.* in /usr/local/lib/python3.10/dist-packages (from gymnasium[box2d]) (4.2.1)\n",
            "Building wheels for collected packages: box2d-py\n",
            "  Building wheel for box2d-py (setup.py) ... \u001b[?25l\u001b[?25hdone\n",
            "  Created wheel for box2d-py: filename=box2d_py-2.3.5-cp310-cp310-linux_x86_64.whl size=2376098 sha256=ad5941ced54f0da6838a102a8d687c2d524f5606d91b8a4ee637eb667bef3af6\n",
            "  Stored in directory: /root/.cache/pip/wheels/db/8f/6a/eaaadf056fba10a98d986f6dce954e6201ba3126926fc5ad9e\n",
            "Successfully built box2d-py\n",
            "Installing collected packages: box2d-py\n",
            "Successfully installed box2d-py-2.3.5\n"
          ]
        }
      ],
      "source": [
        "!pip install gymnasium[box2d]"
      ]
    },
    {
      "cell_type": "markdown",
      "metadata": {
        "id": "nmM2svESZlWP"
      },
      "source": [
        "# Import Modules"
      ]
    },
    {
      "cell_type": "code",
      "execution_count": 6,
      "metadata": {
        "id": "cTn82t7IZbUz"
      },
      "outputs": [],
      "source": [
        "import torch\n",
        "import numpy as np\n",
        "import matplotlib.pyplot as plt\n",
        "\n",
        "from pearl.neural_networks.sequential_decision_making.q_value_networks import VanillaQValueNetwork\n",
        "from pearl.utils.functional_utils.experimentation.set_seed import set_seed\n",
        "from pearl.action_representation_modules.identity_action_representation_module import IdentityActionRepresentationModule\n",
        "from pearl.policy_learners.sequential_decision_making.deep_q_learning import DeepQLearning\n",
        "from pearl.policy_learners.sequential_decision_making.double_dqn import DoubleDQN\n",
        "from pearl.neural_networks.sequential_decision_making.actor_networks import VanillaContinuousActorNetwork\n",
        "from pearl.policy_learners.sequential_decision_making.ppo import ProximalPolicyOptimization\n",
        "from pearl.replay_buffers.sequential_decision_making.fifo_off_policy_replay_buffer import FIFOOffPolicyReplayBuffer\n",
        "from pearl.policy_learners.exploration_modules.common.epsilon_greedy_exploration import EGreedyExploration\n",
        "from pearl.replay_buffers.sequential_decision_making.fifo_on_policy_replay_buffer import FIFOOnPolicyReplayBuffer\n",
        "from pearl.replay_buffers.sequential_decision_making.on_policy_replay_buffer import OnPolicyReplayBuffer\n",
        "from pearl.utils.functional_utils.train_and_eval.online_learning import online_learning\n",
        "from pearl.policy_learners.exploration_modules.common.normal_distribution_exploration import NormalDistributionExploration\n",
        "from pearl.pearl_agent import PearlAgent\n",
        "from pearl.utils.instantiations.environments.gym_environment import GymEnvironment\n",
        "from pearl.utils.instantiations.spaces.discrete import DiscreteSpace\n",
        "from pearl.action_representation_modules.one_hot_action_representation_module import (\n",
        "    OneHotActionTensorRepresentationModule,\n",
        ")\n",
        "\n",
        "set_seed(0)"
      ]
    },
    {
      "cell_type": "markdown",
      "metadata": {
        "id": "pw-zKZJHlMAC"
      },
      "source": [
        "# CarPole-v1"
      ]
    },
    {
      "cell_type": "code",
      "execution_count": null,
      "metadata": {
        "colab": {
          "base_uri": "https://localhost:8080/"
        },
        "id": "7iO0RweZmRiQ",
        "outputId": "e8f4cd9e-a711-47eb-e865-8044593d1e34"
      },
      "outputs": [
        {
          "name": "stdout",
          "output_type": "stream",
          "text": [
            "Gym Environment: CartPole-v1\n",
            "Observation Space: 4\n",
            "Number of Actions: 2\n",
            "Action Space Dimensions: 1\n",
            "Is Action Space Continuous: False\n"
          ]
        }
      ],
      "source": [
        "env_str = \"CartPole-v1\"\n",
        "env = GymEnvironment(env_str)\n",
        "print(f\"Gym Environment: {env_str}\")\n",
        "print(f\"Observation Space: {env.observation_space.shape[0]}\")\n",
        "print(f\"Number of Actions: {env.action_space.n}\")\n",
        "print(f\"Action Space Dimensions: {env.action_space.action_dim}\")\n",
        "print(f\"Is Action Space Continuous: {env.action_space.is_continuous}\")\n",
        "env.close()"
      ]
    },
    {
      "cell_type": "markdown",
      "metadata": {
        "id": "iRSdX3BwmlCX"
      },
      "source": [
        "## Double DQN\n"
      ]
    },
    {
      "cell_type": "code",
      "execution_count": null,
      "metadata": {
        "id": "DQgBO7zKmk84"
      },
      "outputs": [],
      "source": [
        "# Create Environment\n",
        "env = GymEnvironment(env_str)\n",
        "\n",
        "# VanillaQValueNetwork class uses a simple mlp for approximating the Q values.\n",
        "#  - Input dimension of the mlp = (state_dim + action_dim)\n",
        "#  - Size of the intermediate layers are specified as list of `hidden_dims`.\n",
        "hidden_dims = [64, 64]\n",
        "\n",
        "# We will be using a one hot representation for representing actions. So take action_dim = num_actions.\n",
        "Q_value_network = VanillaQValueNetwork(state_dim=env.observation_space.shape[0],  # dimension of the state representation\n",
        "                                       action_dim=env.action_space.n,             # dimension of the action representation\n",
        "                                       hidden_dims=hidden_dims,                   # dimensions of the intermediate layers\n",
        "                                       output_dim=1)                              # set to 1 (Q values are scalars)\n",
        "\n",
        "# Instead of using the 'network_type' argument, use the 'network_instance' argument.\n",
        "# Pass Q_value_network as the `network_instance` to the `DoubleDQN` policy learner.\n",
        "DoubleDQNagent = PearlAgent(\n",
        "    policy_learner=DoubleDQN(\n",
        "        state_dim=env.observation_space.shape[0],\n",
        "        action_space=env.action_space,\n",
        "        batch_size=64,\n",
        "        training_rounds=10,\n",
        "        soft_update_tau=0.75,\n",
        "        network_instance=Q_value_network,   # pass an instance of Q value network to the policy learner.\n",
        "        action_representation_module=OneHotActionTensorRepresentationModule(\n",
        "            max_number_actions=env.action_space.n\n",
        "        ),\n",
        "    ),\n",
        "    replay_buffer=FIFOOffPolicyReplayBuffer(10_000),\n",
        ")\n",
        "\n",
        "# The online learning function in Pearl implements environment interaction and learning\n",
        "# and returns a dictionary with episodic returns\n",
        "info_DoubleDQN = online_learning(\n",
        "    agent=DoubleDQNagent,\n",
        "    env=env,\n",
        "    number_of_episodes=200,\n",
        "    print_every_x_episodes=20,   # print returns after every 10 episdoes\n",
        "    learn_after_episode=True,    # instead of updating after every environment interaction, Q networks are updates at the end of each episode\n",
        "    seed=0\n",
        ")\n",
        "\n",
        "env.close()"
      ]
    },
    {
      "cell_type": "code",
      "execution_count": null,
      "metadata": {
        "id": "jyyUwoe6qvPF"
      },
      "outputs": [],
      "source": [
        "# info[\"return\"] refers to the episodic returns\n",
        "torch.save(info_DoubleDQN[\"return\"], \"DoubleDQN-return.pt\")\n",
        "plt.plot(np.arange(len(info_DoubleDQN[\"return\"])),\n",
        "         info_DoubleDQN[\"return\"],\n",
        "         label=\"DoubleDQN\")\n",
        "\n",
        "plt.title(\"Episodic returns\")\n",
        "plt.xlabel(\"Episode\")\n",
        "plt.ylabel(\"Return\")\n",
        "plt.legend()\n",
        "plt.show()"
      ]
    },
    {
      "cell_type": "markdown",
      "metadata": {
        "id": "7C0Xmte4mCGY"
      },
      "source": [
        "## Proximal Policy Optimization (PPO)"
      ]
    },
    {
      "cell_type": "code",
      "execution_count": null,
      "metadata": {
        "id": "FWyW5kWg1NpL"
      },
      "outputs": [],
      "source": [
        "# Create Environment\n",
        "env = GymEnvironment(env_str)\n",
        "\n",
        "# Create Pearl Agent\n",
        "PPOagent = PearlAgent(\n",
        "    policy_learner=ProximalPolicyOptimization(\n",
        "        state_dim=env.observation_space.shape[0],\n",
        "        use_critic=True,\n",
        "        action_space=env.action_space,\n",
        "        actor_hidden_dims=[64, 64],\n",
        "        critic_hidden_dims=[64, 64],\n",
        "        batch_size=64,\n",
        "        training_rounds=10,\n",
        "        critic_learning_rate=1e-3,\n",
        "        actor_learning_rate=1e-3,\n",
        "        action_representation_module=OneHotActionTensorRepresentationModule(\n",
        "            max_number_actions=env.action_space.n,\n",
        "        ),\n",
        "    ),\n",
        "    replay_buffer=OnPolicyReplayBuffer(250_000),\n",
        ")\n",
        "\n",
        "info_PPO = online_learning(\n",
        "    agent=PPOagent,\n",
        "    env=env,\n",
        "    number_of_episodes=750,\n",
        "    print_every_x_episodes=50,\n",
        "    learn_after_episode=True,\n",
        "    seed=0\n",
        ")\n",
        "\n",
        "env.close()"
      ]
    },
    {
      "cell_type": "code",
      "execution_count": null,
      "metadata": {
        "id": "SMc5eY11qtG-"
      },
      "outputs": [],
      "source": [
        "# info[\"return\"] refers to the episodic returns\n",
        "torch.save(info_PPO[\"return\"], \"info_PPO-return.pt\")\n",
        "plt.plot(np.arange(len(info_PPO[\"return\"])),\n",
        "         info_PPO[\"return\"],\n",
        "         label=\"PPO\")\n",
        "\n",
        "plt.title(\"Episodic returns\")\n",
        "plt.xlabel(\"Episode\")\n",
        "plt.ylabel(\"Return\")\n",
        "plt.legend()\n",
        "plt.show()"
      ]
    },
    {
      "cell_type": "markdown",
      "metadata": {
        "id": "Hdz10gMNkRm7"
      },
      "source": [
        "# LunarLander-v2"
      ]
    },
    {
      "cell_type": "code",
      "execution_count": 7,
      "metadata": {
        "colab": {
          "base_uri": "https://localhost:8080/"
        },
        "id": "8J7d8Ib-kQ-2",
        "outputId": "3f63f084-5085-41dd-b340-893a25fe10a8"
      },
      "outputs": [
        {
          "output_type": "stream",
          "name": "stdout",
          "text": [
            "Gym Environment: LunarLander-v2\n",
            "Observation Space: 8\n",
            "Number of Actions: 4\n",
            "Action Space Dimensions: 1\n",
            "Is Action Space Continuous: False\n"
          ]
        }
      ],
      "source": [
        "env_str = \"LunarLander-v2\"\n",
        "env = GymEnvironment(env_str)\n",
        "print(f\"Gym Environment: {env_str}\")\n",
        "print(f\"Observation Space: {env.observation_space.shape[0]}\")\n",
        "print(f\"Number of Actions: {env.action_space.n}\")\n",
        "print(f\"Action Space Dimensions: {env.action_space.action_dim}\")\n",
        "print(f\"Is Action Space Continuous: {env.action_space.is_continuous}\")\n",
        "env.close()"
      ]
    },
    {
      "cell_type": "markdown",
      "metadata": {
        "id": "YLaD5IKGleF8"
      },
      "source": [
        "## Double DQN"
      ]
    },
    {
      "cell_type": "code",
      "execution_count": null,
      "metadata": {
        "id": "YQ5p1z8WDL58"
      },
      "outputs": [],
      "source": [
        "# Create Environment\n",
        "env = GymEnvironment(env_str)\n",
        "\n",
        "# VanillaQValueNetwork class uses a simple mlp for approximating the Q values.\n",
        "#  - Input dimension of the mlp = (state_dim + action_dim)\n",
        "#  - Size of the intermediate layers are specified as list of `hidden_dims`.\n",
        "hidden_dims = [64, 64]\n",
        "\n",
        "\n",
        "# We will be using a one hot representation for representing actions. So take action_dim = num_actions.\n",
        "Q_value_network = VanillaQValueNetwork(state_dim=env.observation_space.shape[0],  # dimension of the state representation\n",
        "                                       action_dim=env.action_space.n,             # dimension of the action representation\n",
        "                                       hidden_dims=hidden_dims,                   # dimensions of the intermediate layers\n",
        "                                       output_dim=1)                              # set to 1 (Q values are scalars)\n",
        "\n",
        "# Create Pearl Agent\n",
        "# Instead of using the 'network_type' argument, use the 'network_instance' argument.\n",
        "# Pass Q_value_network as the `network_instance` to the `DeepQLearning` policy learner.\n",
        "DoubleDQNagent = PearlAgent(\n",
        "    policy_learner=DoubleDQN(\n",
        "        state_dim=env.observation_space.shape[0],\n",
        "        action_space=env.action_space,\n",
        "        batch_size=64,\n",
        "        network_instance=Q_value_network,   # pass an instance of Q value network to the policy learner.\n",
        "        exploration_module=EGreedyExploration(0.025),\n",
        "        action_representation_module=OneHotActionTensorRepresentationModule(\n",
        "            max_number_actions=env.action_space.n\n",
        "        ),\n",
        "    ),\n",
        "    replay_buffer=FIFOOffPolicyReplayBuffer(1_000_000),\n",
        ")\n",
        "\n",
        "info_DoubleDQN = online_learning(\n",
        "    agent=DoubleDQNagent,\n",
        "    env=env,\n",
        "    number_of_episodes=3000,\n",
        "    print_every_x_episodes=50,   # print returns after every 50 episdoes\n",
        "    learn_after_episode=True,    # instead of updating after every environment interaction, Q networks are updates at the end of each episode\n",
        "    record_period=50,\n",
        "    seed=0\n",
        ")\n",
        "\n",
        "env.close()"
      ]
    },
    {
      "cell_type": "code",
      "execution_count": null,
      "metadata": {
        "id": "h0s9TOSnqpqM",
        "colab": {
          "base_uri": "https://localhost:8080/",
          "height": 472
        },
        "outputId": "471dcc1c-efcd-41fc-e8cc-c4a239006133"
      },
      "outputs": [
        {
          "output_type": "display_data",
          "data": {
            "text/plain": [
              "<Figure size 640x480 with 1 Axes>"
            ],
            "image/png": "[encoded data removed]"
          },
          "metadata": {}
        }
      ],
      "source": [
        "# info[\"return\"] refers to the episodic returns\n",
        "torch.save(info_DoubleDQN[\"return\"], \"DoubleDQN-return.pt\")\n",
        "plt.plot(np.arange(len(info_DoubleDQN[\"return\"])),\n",
        "         info_DoubleDQN[\"return\"],\n",
        "         label=\"DoubleDQN\")\n",
        "\n",
        "plt.title(\"Episodic returns\")\n",
        "plt.xlabel(\"Episode\")\n",
        "plt.ylabel(\"Return\")\n",
        "plt.legend()\n",
        "plt.show()"
      ]
    },
    {
      "cell_type": "markdown",
      "metadata": {
        "id": "pqMHuZWklhBb"
      },
      "source": [
        "## Proximal Policy Optimization (PPO)"
      ]
    },
    {
      "cell_type": "code",
      "execution_count": null,
      "metadata": {
        "colab": {
          "base_uri": "https://localhost:8080/"
        },
        "id": "_-LjD7S8Bn7s",
        "outputId": "b471a49a-a531-4be6-9b99-7532cd5c7815"
      },
      "outputs": [
        {
          "output_type": "stream",
          "name": "stderr",
          "text": [
            "/usr/local/lib/python3.10/dist-packages/torch/nn/modules/module.py:1532: UserWarning: Implicit dimension choice for softmax has been deprecated. Change the call to include dim=X as an argument.\n",
            "  return self._call_impl(*args, **kwargs)\n"
          ]
        },
        {
          "output_type": "stream",
          "name": "stdout",
          "text": [
            "episode 100, step 9677, agent=PearlAgent with ProximalPolicyOptimization, OnPolicyReplayBuffer, env=LunarLander-v2\n",
            "return: -185.9570230199024\n",
            "episode 200, step 23844, agent=PearlAgent with ProximalPolicyOptimization, OnPolicyReplayBuffer, env=LunarLander-v2\n",
            "return: -13.244733727537096\n",
            "episode 300, step 53947, agent=PearlAgent with ProximalPolicyOptimization, OnPolicyReplayBuffer, env=LunarLander-v2\n",
            "return: -133.35200564889237\n",
            "episode 400, step 134789, agent=PearlAgent with ProximalPolicyOptimization, OnPolicyReplayBuffer, env=LunarLander-v2\n",
            "return: 69.07016391676734\n",
            "episode 500, step 218432, agent=PearlAgent with ProximalPolicyOptimization, OnPolicyReplayBuffer, env=LunarLander-v2\n",
            "return: 159.8795195334179\n",
            "episode 600, step 280898, agent=PearlAgent with ProximalPolicyOptimization, OnPolicyReplayBuffer, env=LunarLander-v2\n",
            "return: 184.56189489871483\n",
            "episode 700, step 350217, agent=PearlAgent with ProximalPolicyOptimization, OnPolicyReplayBuffer, env=LunarLander-v2\n",
            "return: 167.84619050768273\n"
          ]
        }
      ],
      "source": [
        "# Create Environment\n",
        "env = GymEnvironment(env_str)\n",
        "\n",
        "# Create Pearl Agent\n",
        "PPOagent = PearlAgent(\n",
        "    policy_learner=ProximalPolicyOptimization(\n",
        "        state_dim=env.observation_space.shape[0],\n",
        "        use_critic=True,\n",
        "        action_space=env.action_space,\n",
        "        actor_hidden_dims=[64, 64],\n",
        "        critic_hidden_dims=[64, 64],\n",
        "        critic_learning_rate=3e-4,\n",
        "        actor_learning_rate=3e-4,\n",
        "        epsilon=0.2,\n",
        "        batch_size=128,\n",
        "        training_rounds=100,\n",
        "        entropy_bonus_scaling=0.01,\n",
        "        action_representation_module=OneHotActionTensorRepresentationModule(\n",
        "            max_number_actions=env.action_space.n,\n",
        "        ),\n",
        "    ),\n",
        "    replay_buffer=OnPolicyReplayBuffer(250_000),\n",
        ")\n",
        "\n",
        "info_PPO = online_learning(\n",
        "    agent=PPOagent,\n",
        "    env=env,\n",
        "    #number_of_episodes=1000,\n",
        "    number_of_steps=2_000_000,\n",
        "    print_every_x_episodes=100,\n",
        "    #print_every_x_steps=2048,\n",
        "    learn_every_k_steps=2048,\n",
        "    record_period=2048,\n",
        "    learn_after_episode=False,\n",
        "    seed=0\n",
        ")\n",
        "\n",
        "env.close()"
      ]
    },
    {
      "cell_type": "code",
      "execution_count": null,
      "metadata": {
        "id": "khxHZLwFjODv"
      },
      "outputs": [],
      "source": [
        "# info[\"return\"] refers to the episodic returns\n",
        "torch.save(info_PPO[\"return\"], \"info_PPO-return.pt\")\n",
        "plt.plot(np.arange(len(info_PPO[\"return\"])),\n",
        "         info_PPO[\"return\"],\n",
        "         label=\"PPO\")\n",
        "\n",
        "plt.title(\"Episodic returns\")\n",
        "plt.xlabel(\"Episode\")\n",
        "plt.ylabel(\"Return\")\n",
        "plt.legend()\n",
        "plt.show()"
      ]
    },
    {
      "cell_type": "code",
      "source": [],
      "metadata": {
        "id": "dnFPk_adnjKn"
      },
      "execution_count": null,
      "outputs": []
    }
  ],
  "metadata": {
    "colab": {
      "provenance": [],
      "gpuType": "T4"
    },
    "fileHeader": "",
    "fileUid": "3c7cd09e-0b1d-4baa-9c96-e7ef3e6154f4",
    "isAdHoc": false,
    "kernelspec": {
      "display_name": "pearl",
      "language": "python",
      "name": "bento_kernel_pearl"
    },
    "language_info": {
      "name": "python"
    },
    "accelerator": "GPU"
  },
  "nbformat": 4,
  "nbformat_minor": 0
}